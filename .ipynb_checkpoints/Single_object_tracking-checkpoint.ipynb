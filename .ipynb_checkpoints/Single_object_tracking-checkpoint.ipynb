{
 "cells": [
  {
   "cell_type": "code",
   "execution_count": 1,
   "metadata": {},
   "outputs": [],
   "source": [
    "import cv2"
   ]
  },
  {
   "cell_type": "code",
   "execution_count": null,
   "metadata": {},
   "outputs": [],
   "source": [
    "#Define our tracker\n",
    "def ask_for_tracker():\n",
    "    print(\"Hi! What tracker API would you like to use\")\n",
    "    print(\"Enter 0 for Boosting\")\n",
    "    print(\"Enter 1 for MIL\")\n",
    "    print(\"Enter 2 for KCF\")\n",
    "    print(\"Enter 3 for TLD\")\n",
    "    print(\"Enter 4 for MEDIANFLOW\")\n",
    "    print(\"Enter 5 for GOTURN\")\n",
    "    print(\"Enter 6 for MOSSE\")\n",
    "    print(\"Enter 7 for CSRT\")\n",
    "    \n",
    "    choice = input(\"Please select your tracker\")\n",
    "    \n",
    "    if choice=='0':\n",
    "        tracker = cv2.TrackerBoosting_create()\n",
    "    elif choice=='1':\n",
    "        tracker = cv2.TrackerMIL_create()\n",
    "    elif choice=='2':\n",
    "        tracker = cv2.TrackerKCF_create()\n",
    "    elif choice=='3':\n",
    "        tracker = cv2.TrackerTLD_create()\n",
    "    elif choice=='4':\n",
    "        tracker = cv2.TrackerMedianFlow_create()\n",
    "    elif choice=='5':\n",
    "        tracker = cv2.TrackerGOTURN_create()\n",
    "    elif choice=='6':\n",
    "        tracker = cv2.TrackerMOSSE_create()\n",
    "    elif choice=='7':\n",
    "        tracker = cv2.TrackerCSRT_create()\n",
    "    \n",
    "    return tracker"
   ]
  },
  {
   "cell_type": "code",
   "execution_count": null,
   "metadata": {},
   "outputs": [],
   "source": [
    "#Tracker\n",
    "tracker = ask_for_tracker()\n",
    "\n",
    "#Tracker name\n",
    "tracker_name = str(tracker).split()[0][1:]\n",
    "\n",
    "\n",
    "\n",
    "\n",
    "\n"
   ]
  },
  {
   "cell_type": "code",
   "execution_count": null,
   "metadata": {},
   "outputs": [],
   "source": [
    "#Video capture\n",
    "cap = cv2.VideoCapture(\"Sample.mkv\")"
   ]
  },
  {
   "cell_type": "code",
   "execution_count": null,
   "metadata": {},
   "outputs": [],
   "source": [
    "#Read and capture and get first frame\n",
    "ret, frame = cap.read()"
   ]
  },
  {
   "cell_type": "code",
   "execution_count": null,
   "metadata": {},
   "outputs": [],
   "source": [
    "#Select our roi\n",
    "roi = cv2.selectROI(frame, False)"
   ]
  },
  {
   "cell_type": "code",
   "execution_count": null,
   "metadata": {},
   "outputs": [],
   "source": [
    "#Initialize tracker\n",
    "ret = tracker.init(frame, roi)"
   ]
  },
  {
   "cell_type": "code",
   "execution_count": null,
   "metadata": {},
   "outputs": [],
   "source": [
    "while True:\n",
    "    #Read and capture the first frame\n",
    "    ret, frame = cap.read()\n",
    "    \n",
    "    #Update tracker\n",
    "    success, roi = tracker.update(frame)\n",
    "    \n",
    "    #roi - from tuple to int\n",
    "    x,y,w,h = tuple(map(int, roi))\n",
    "    \n",
    "    #Draw rectangles as tracker moves\n",
    "    if success:\n",
    "        pts1 = (x,y)\n",
    "        pts2 = (x+w,y+h)\n",
    "        cv2.rectangle(frame, pts1, pts2, (255,125,25), 3)\n",
    "    else:\n",
    "        cv2.putText(frame, 'Failed to track the object', (100,200), cv2.FONT_HERSHEY_SIMPLEX, 1, (25,125,255), 3)\n",
    "    \n",
    "    #Display tracker\n",
    "    cv2.putText(frame, tracker_name, (20,400), cv2.FONT_HERSHEY_SIMPLEX, 1, (255,255,0), 3)\n",
    "    \n",
    "    #Display result\n",
    "    cv2.imshow(tracker_name,frame)\n",
    "    \n",
    "    #Exit with escape button\n",
    "    if cv2.waiKey(50) && 0xFF == 27:\n",
    "        break\n",
    "        \n",
    "        \n",
    "#Release and destroy\n",
    "cap.release()\n",
    "cv2.destroyAllWindows()\n",
    "            \n",
    "    "
   ]
  },
  {
   "cell_type": "code",
   "execution_count": null,
   "metadata": {},
   "outputs": [],
   "source": []
  },
  {
   "cell_type": "code",
   "execution_count": null,
   "metadata": {},
   "outputs": [],
   "source": []
  },
  {
   "cell_type": "code",
   "execution_count": null,
   "metadata": {},
   "outputs": [],
   "source": []
  }
 ],
 "metadata": {
  "kernelspec": {
   "display_name": "Python 3",
   "language": "python",
   "name": "python3"
  },
  "language_info": {
   "codemirror_mode": {
    "name": "ipython",
    "version": 3
   },
   "file_extension": ".py",
   "mimetype": "text/x-python",
   "name": "python",
   "nbconvert_exporter": "python",
   "pygments_lexer": "ipython3",
   "version": "3.7.7"
  }
 },
 "nbformat": 4,
 "nbformat_minor": 4
}
