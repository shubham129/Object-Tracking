{
 "cells": [
  {
   "cell_type": "code",
   "execution_count": 1,
   "metadata": {
    "colab": {},
    "colab_type": "code",
    "id": "VpR_PmObNQHy"
   },
   "outputs": [],
   "source": [
    "\n",
    "import numpy as np\n",
    "import cv2"
   ]
  },
  {
   "cell_type": "code",
   "execution_count": 2,
   "metadata": {
    "colab": {},
    "colab_type": "code",
    "id": "YTrix5JmRJn2"
   },
   "outputs": [],
   "source": [
    "#Parameters for shi tomasi corner detection\n",
    "st_params = dict(maxCorners=30, qualityLevel=0.2, minDistance=2, blockSize=7)"
   ]
  },
  {
   "cell_type": "code",
   "execution_count": 3,
   "metadata": {
    "colab": {},
    "colab_type": "code",
    "id": "QQ5--SH1R0-7"
   },
   "outputs": [],
   "source": [
    "#Parameters for lucas-kande optical flow\n",
    "lk_params = dict(winSize=(15,15), maxLevel=2, criteria=(cv2.TERM_CRITERIA_EPS | cv2.TERM_CRITERIA_COUNT, 10, 1))"
   ]
  },
  {
   "cell_type": "code",
   "execution_count": 8,
   "metadata": {
    "colab": {},
    "colab_type": "code",
    "id": "xBuwbDQGSnro"
   },
   "outputs": [],
   "source": [
    "#Video capture\n",
    "cap = cv2.VideoCapture(r\"C:\\Users\\Rahul Dusad\\ML Projects\\Object Tracking\\video\\chaplin.mp4\")"
   ]
  },
  {
   "cell_type": "code",
   "execution_count": 9,
   "metadata": {
    "colab": {},
    "colab_type": "code",
    "id": "V1zk-F-yS4tD"
   },
   "outputs": [],
   "source": [
    "#Color for optical flow\n",
    "color = (0, 255, 0)"
   ]
  },
  {
   "cell_type": "code",
   "execution_count": 10,
   "metadata": {
    "colab": {},
    "colab_type": "code",
    "id": "bH8g8vM2TF-T"
   },
   "outputs": [],
   "source": [
    "#Read and capture and get first frame\n",
    "ret, first_frame = cap.read()"
   ]
  },
  {
   "cell_type": "code",
   "execution_count": 11,
   "metadata": {
    "colab": {},
    "colab_type": "code",
    "id": "xAplHzqLTVRU"
   },
   "outputs": [],
   "source": [
    "#Convert frame to gray scale\n",
    "prev_gray = cv2.cvtColor(first_frame, cv2.COLOR_BGR2GRAY)"
   ]
  },
  {
   "cell_type": "code",
   "execution_count": 12,
   "metadata": {
    "colab": {},
    "colab_type": "code",
    "id": "Ncfs5YQKUE4a"
   },
   "outputs": [],
   "source": [
    "#Find the strongest frame\n",
    "prev = cv2.goodFeaturesToTrack(prev_gray, mask=None, **st_params)"
   ]
  },
  {
   "cell_type": "code",
   "execution_count": 13,
   "metadata": {
    "colab": {},
    "colab_type": "code",
    "id": "qrCTO5RXV_KY"
   },
   "outputs": [],
   "source": [
    "#Create an image with the same dimension as the frame for later drawing purpose\n",
    "mask = np.zeros_like(first_frame)"
   ]
  },
  {
   "cell_type": "code",
   "execution_count": null,
   "metadata": {
    "colab": {
     "base_uri": "https://localhost:8080/",
     "height": 1000
    },
    "colab_type": "code",
    "id": "38XxbyrfWYYK",
    "outputId": "90067a91-1740-4c4b-ddc5-af630ba1a853"
   },
   "outputs": [],
   "source": [
    "#from google.colab.patches import cv2_imshow\n",
    "while(cap.isOpened()):\n",
    "\n",
    "  #Read and capture the first frame\n",
    "  ret, frame = cap.read()\n",
    "\n",
    "  #Converting all frames to gray scale\n",
    "  gray = cv2.cvtColor(frame, cv2.COLOR_BGR2GRAY)\n",
    "\n",
    "  #Calculating optical flow by lucas-kanade\n",
    "  next, status, error =cv2.calcOpticalFlowPyrLK(prev_gray,gray, prev, None, **lk_params)\n",
    "\n",
    "  #Select good features for previous position\n",
    "  good_old = prev[status==1]\n",
    "\n",
    "  #Select good features for next position\n",
    "  good_new = next[status==1]\n",
    "\n",
    "  #Draw optical flow track\n",
    "  for i, (new, old) in enumerate(zip(good_new, good_old)):\n",
    "\n",
    "    #Return coordinates for new point\n",
    "    a,b = new.ravel()\n",
    "\n",
    "    #Return coordinates for old point\n",
    "    c,d = old.ravel()\n",
    "\n",
    "    #Draw line between new and old position\n",
    "    mask = cv2.line(mask, (a,b), (c,d), color, 2)\n",
    "\n",
    "    #Draw filled circle\n",
    "    frame = cv2.circle(frame, (a,b), 3, color, -1)\n",
    "\n",
    "    #Overlay optical flow on original field\n",
    "    output = cv2.add(frame, mask)\n",
    "\n",
    "    #Update previos frame and previous good features\n",
    "    prev_gray = gray.copy()\n",
    "    prev = good_new.reshape(-1,1,2)\n",
    "\n",
    "    #Open the new window and display the output\n",
    "    cv2.imshow(\"Optical flow\",output)\n",
    "\n",
    "    #Close the frame\n",
    "    if cv2.waitKey(5) & 0xFF == ord(\"q\"):\n",
    "        break  \n",
    "\n",
    "\n"
   ]
  },
  {
   "cell_type": "code",
   "execution_count": 16,
   "metadata": {
    "colab": {},
    "colab_type": "code",
    "id": "9UmOjjYSbBYB"
   },
   "outputs": [],
   "source": [
    "#Release and destroy\n",
    "cap.release()\n",
    "cv2.destroyAllWindows()\n"
   ]
  },
  {
   "cell_type": "code",
   "execution_count": null,
   "metadata": {
    "colab": {},
    "colab_type": "code",
    "id": "M5wD8Tmtc8te"
   },
   "outputs": [],
   "source": []
  }
 ],
 "metadata": {
  "accelerator": "GPU",
  "colab": {
   "name": "Optical_flow.ipynb",
   "provenance": []
  },
  "kernelspec": {
   "display_name": "Python 3",
   "language": "python",
   "name": "python3"
  },
  "language_info": {
   "codemirror_mode": {
    "name": "ipython",
    "version": 3
   },
   "file_extension": ".py",
   "mimetype": "text/x-python",
   "name": "python",
   "nbconvert_exporter": "python",
   "pygments_lexer": "ipython3",
   "version": "3.7.7"
  }
 },
 "nbformat": 4,
 "nbformat_minor": 1
}
