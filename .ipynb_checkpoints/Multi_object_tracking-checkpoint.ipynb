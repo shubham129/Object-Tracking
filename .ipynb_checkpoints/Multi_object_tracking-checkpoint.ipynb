{
 "cells": [
  {
   "cell_type": "code",
   "execution_count": null,
   "metadata": {},
   "outputs": [],
   "source": [
    "import sys\n",
    "import cv2\n",
    "from random import randint"
   ]
  },
  {
   "cell_type": "code",
   "execution_count": null,
   "metadata": {},
   "outputs": [],
   "source": [
    "tracker_types = ['Boosting','MIL','KCF','TLD','MEDIANFLOW','GOTURN','MOSSE','CSRT']"
   ]
  },
  {
   "cell_type": "code",
   "execution_count": null,
   "metadata": {},
   "outputs": [],
   "source": [
    "def tracker_name(tracker_type):\n",
    "    if tracker_type==tracker_types[0]:\n",
    "        tracker = cv2.TrackerBoosting_create()\n",
    "    elif tracker_type==tracker_types[1]:\n",
    "        tracker = cv2.TrackerMIL_create()\n",
    "    elif tracker_type==tracker_types[2]:\n",
    "        tracker = cv2.TrackerKCF_create()\n",
    "    elif tracker_type==tracker_types[3]:\n",
    "        tracker = cv2.TrackerTLD_create()\n",
    "    elif tracker_type==tracker_types[4]:\n",
    "        tracker = cv2.TrackerMedianFlow_create()\n",
    "    elif tracker_type==tracker_types[5]:\n",
    "        tracker = cv2.TrackerGOTURN_create()\n",
    "    elif tracker_type==tracker_types[6]:\n",
    "        tracker = cv2.TrackerMOSSE_create()\n",
    "    elif tracker_type==tracker_types[7]:\n",
    "        tracker = cv2.TrackerCSRT_create()\n",
    "    else:\n",
    "        tracker = None\n",
    "        print(\"No tracker found\")\n",
    "        print(\"Choose from these trackers:\")\n",
    "        for tr in tracker_types:\n",
    "            print(tr)\n",
    "    return tracker"
   ]
  },
  {
   "cell_type": "code",
   "execution_count": null,
   "metadata": {},
   "outputs": [],
   "source": [
    "if __name__ == '__main__':\n",
    "    print(\"Default tracking algorith MOSSE\\n\")\n",
    "    print(\"Available algorithms are : \")\n",
    "    for tr in tracker_types:\n",
    "        print(tr)"
   ]
  },
  {
   "cell_type": "code",
   "execution_count": null,
   "metadata": {},
   "outputs": [],
   "source": [
    "tracker_type='MOSSE'"
   ]
  },
  {
   "cell_type": "code",
   "execution_count": null,
   "metadata": {},
   "outputs": [],
   "source": [
    "#Video capture\n",
    "cap = cv2.VideoCapture(\"Sample.mkv\")"
   ]
  },
  {
   "cell_type": "code",
   "execution_count": null,
   "metadata": {},
   "outputs": [],
   "source": [
    "#Read and capture and get first frame\n",
    "success, frame = cap.read()"
   ]
  },
  {
   "cell_type": "code",
   "execution_count": null,
   "metadata": {},
   "outputs": [],
   "source": [
    "#Quit if failure\n",
    "if not success:\n",
    "    print(\"Cannot read the video\")"
   ]
  },
  {
   "cell_type": "code",
   "execution_count": null,
   "metadata": {},
   "outputs": [],
   "source": [
    "#Select boxes and color\n",
    "rects = []\n",
    "color = []\n"
   ]
  },
  {
   "cell_type": "code",
   "execution_count": null,
   "metadata": {},
   "outputs": [],
   "source": [
    "while True:\n",
    "    \n",
    "    #Draw rectangles, select ROI and open new window\n",
    "    rect_box = cv2.selectROI('MultiTracker',frame)\n",
    "    rects.append(rect_box)\n",
    "    color.append((randint(64,255),randint(64,255),randint(64,255)))\n",
    "    print(\"Press q to stop selecting boxes and start multitracking\")\n",
    "    print(\"Press any key to select another box\")\n",
    "    \n",
    "    \n",
    "    #Close window\n",
    "    if cv2.waiKey(0) && 0xFF == 113:    #113 == q\n",
    "        break"
   ]
  },
  {
   "cell_type": "code",
   "execution_count": null,
   "metadata": {},
   "outputs": [],
   "source": [
    "print(f'Selected boxes{rects}')"
   ]
  },
  {
   "cell_type": "code",
   "execution_count": null,
   "metadata": {},
   "outputs": [],
   "source": [
    "#Create multitracker\n",
    "multitracker = cv2.MultiTracker_create()\n"
   ]
  },
  {
   "cell_type": "code",
   "execution_count": null,
   "metadata": {},
   "outputs": [],
   "source": [
    "#Initialize multitracker\n",
    "for rect_box in rects:\n",
    "    multitracker.add(tracker_name(tracker_types), frame, rect_box)"
   ]
  },
  {
   "cell_type": "code",
   "execution_count": null,
   "metadata": {},
   "outputs": [],
   "source": [
    "#Video and tracker\n",
    "while cap.isOpened():\n",
    "    success, frame = cap.read()\n",
    "    if not success:\n",
    "        break\n",
    "    \n",
    "    #Updtae objects location\n",
    "    success, boxes = multitracker.update(frame)\n",
    "    \n",
    "    #Draw the projects tracked\n",
    "    for i, newbox in enumerate(boxes):\n",
    "        pts1 = (int(newbox[0]), int(newbox[1]))\n",
    "        pts2 = (int(newbox[0]+newbox[2]), int(newbox[1]+newbox[3]))\n",
    "        cv2.rectangle(frame, pts1, pts2, color[i], 2, 1)\n",
    "    \n",
    "    #Display frame\n",
    "    cv2.imshow('Multitracker',frame)\n",
    "    \n",
    "    #Close the frame\n",
    "    if cv2.waiKey(20) && 0xFF == 27:\n",
    "        break\n",
    "        \n",
    "        \n",
    "#Release and destroy\n",
    "cap.release()\n",
    "cv2.destroyAllWindows()"
   ]
  },
  {
   "cell_type": "code",
   "execution_count": null,
   "metadata": {},
   "outputs": [],
   "source": []
  }
 ],
 "metadata": {
  "kernelspec": {
   "display_name": "Python 3",
   "language": "python",
   "name": "python3"
  },
  "language_info": {
   "codemirror_mode": {
    "name": "ipython",
    "version": 3
   },
   "file_extension": ".py",
   "mimetype": "text/x-python",
   "name": "python",
   "nbconvert_exporter": "python",
   "pygments_lexer": "ipython3",
   "version": "3.7.7"
  }
 },
 "nbformat": 4,
 "nbformat_minor": 4
}
