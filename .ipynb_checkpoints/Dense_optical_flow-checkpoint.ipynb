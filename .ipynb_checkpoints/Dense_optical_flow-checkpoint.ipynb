{
 "cells": [
  {
   "cell_type": "code",
   "execution_count": 1,
   "metadata": {
    "colab": {},
    "colab_type": "code",
    "collapsed": true,
    "id": "njsT62p4kAem"
   },
   "outputs": [],
   "source": [
    "import numpy as np\n",
    "import cv2"
   ]
  },
  {
   "cell_type": "code",
   "execution_count": 2,
   "metadata": {
    "colab": {},
    "colab_type": "code",
    "collapsed": true,
    "id": "s9Wm02EakFYE"
   },
   "outputs": [],
   "source": [
    "#Video capture\n",
    "cap = cv2.VideoCapture(r\"C:\\Users\\Rahul Dusad\\ML Projects\\Object Tracking\\video\\chaplin.mp4\")"
   ]
  },
  {
   "cell_type": "code",
   "execution_count": 3,
   "metadata": {
    "colab": {},
    "colab_type": "code",
    "collapsed": true,
    "id": "qhJf__hskMLi"
   },
   "outputs": [],
   "source": [
    "#Read and capture and get first frame\n",
    "ret, first_frame = cap.read()"
   ]
  },
  {
   "cell_type": "code",
   "execution_count": 4,
   "metadata": {
    "colab": {
     "base_uri": "https://localhost:8080/",
     "height": 180
    },
    "colab_type": "code",
    "collapsed": true,
    "id": "CwHXYexnkN89",
    "outputId": "7e0c5dd1-2eef-4d63-fc4d-8fa8da003170"
   },
   "outputs": [],
   "source": [
    "#Convert frame to gray scale\n",
    "prev_gray = cv2.cvtColor(first_frame, cv2.COLOR_BGR2GRAY)"
   ]
  },
  {
   "cell_type": "code",
   "execution_count": 5,
   "metadata": {
    "colab": {},
    "colab_type": "code",
    "collapsed": true,
    "id": "6EQgTjffkTbO"
   },
   "outputs": [],
   "source": [
    "#Create an image with the same dimension as the frame for later drawing purpose\n",
    "mask = np.zeros_like(first_frame)"
   ]
  },
  {
   "cell_type": "code",
   "execution_count": 6,
   "metadata": {
    "colab": {
     "base_uri": "https://localhost:8080/",
     "height": 180
    },
    "colab_type": "code",
    "collapsed": true,
    "id": "EVv-vhfvklvn",
    "outputId": "5128f28c-539b-40a9-e672-8770d8b5efaa"
   },
   "outputs": [],
   "source": [
    "#Saturation to maximum\n",
    "mask[..., 1] = 255"
   ]
  },
  {
   "cell_type": "code",
   "execution_count": 8,
   "metadata": {
    "colab": {},
    "colab_type": "code",
    "id": "lIHR2XY-klry"
   },
   "outputs": [],
   "source": [
    "#from google.colab.patches import cv2_imshow\n",
    "while(cap.isOpened()):\n",
    "\n",
    "  #Read and capture the first frame\n",
    "  ret, frame = cap.read()\n",
    "\n",
    "  #Open new window and display the frame\n",
    "  cv2.imshow('input', frame)\n",
    "\n",
    "  #Converting all frames to gray scale\n",
    "  gray = cv2.cvtColor(frame, cv2.COLOR_BGR2GRAY)\n",
    "\n",
    "  #Calculating dense optical flow by farneback\n",
    "  flow = cv2.calcOpticalFlowFarneback(prev_gray, gray, None, 0.5, 3, 15, 3, 5, 1.2, 0)\n",
    "\n",
    "  #Compute magnitude and angle\n",
    "  magn, angle = cv2.cartToPolar(flow[..., 0], flow[..., 1])\n",
    "    \n",
    "  #Set image hue dependency on the optical flow\n",
    "  mask[...,0] = angle*180/np.pi/2\n",
    "    \n",
    "  #Normalize the magniude\n",
    "  mask[...,2] = cv2.normalize(magn, None, 0 , 255, cv2.NORM_MINMAX)\n",
    "\n",
    "  #Convert hsv to rgb\n",
    "  rgb = cv2.cvtColor(mask, cv2.COLOR_HSV2RGB)\n",
    "\n",
    "  #Open new window and display the output\n",
    "  cv2.imshow(\"Dense optical flow\",rgb)\n",
    "\n",
    "  #Update previous frame\n",
    "  prev_gray = gray\n",
    "\n",
    "  #Close the frame\n",
    "  if cv2.waitKey(30) & 0xFF == ord('q'):\n",
    "    break\n",
    "\n",
    " \n",
    "\n"
   ]
  },
  {
   "cell_type": "code",
   "execution_count": 9,
   "metadata": {
    "colab": {},
    "colab_type": "code",
    "collapsed": true,
    "id": "N3Onkx1LklqE"
   },
   "outputs": [],
   "source": [
    "#Release and destroy\n",
    "cap.release()\n",
    "cv2.destroyAllWindows()"
   ]
  },
  {
   "cell_type": "code",
   "execution_count": null,
   "metadata": {
    "colab": {},
    "colab_type": "code",
    "collapsed": true,
    "id": "KavWeGrrkloj"
   },
   "outputs": [],
   "source": []
  },
  {
   "cell_type": "code",
   "execution_count": null,
   "metadata": {
    "colab": {},
    "colab_type": "code",
    "collapsed": true,
    "id": "jqH4NXpIklhM"
   },
   "outputs": [],
   "source": []
  }
 ],
 "metadata": {
  "accelerator": "GPU",
  "colab": {
   "name": "Dense_optical_flow",
   "provenance": []
  },
  "kernelspec": {
   "display_name": "Python 3",
   "language": "python",
   "name": "python3"
  },
  "language_info": {
   "codemirror_mode": {
    "name": "ipython",
    "version": 3
   },
   "file_extension": ".py",
   "mimetype": "text/x-python",
   "name": "python",
   "nbconvert_exporter": "python",
   "pygments_lexer": "ipython3",
   "version": "3.6.3"
  }
 },
 "nbformat": 4,
 "nbformat_minor": 1
}
